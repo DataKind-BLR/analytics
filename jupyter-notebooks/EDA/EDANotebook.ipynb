{
 "cells": [
  {
   "cell_type": "code",
   "execution_count": null,
   "metadata": {
    "collapsed": false
   },
   "outputs": [],
   "source": [
    "# Add required packages here\n",
    "require('plyr')\n",
    "require('dplyr')\n",
    "require('tidyr')\n",
    "require('lubridate')\n",
    "require('stringr')\n",
    "require(\"ggplot2\") \n",
    "\n",
    "# Path of data used for analysis\n",
    "RAW_PATH = \"C:\\\\Users\\\\sahil.maheshwari\\\\Documents\\\\R Scripts\\\\eGov_DC\\\\data\\\\datadive\\\\coc.csv\"\n",
    "ROLLED_DATA_PATH = \"C:\\\\Users\\\\sahil.maheshwari\\\\Documents\\\\R Scripts\\\\eGov_DC\\\\data\\\\datadive\\\\ddive_rolled_seq.csv\""
   ]
  },
  {
   "cell_type": "code",
   "execution_count": null,
   "metadata": {
    "collapsed": true
   },
   "outputs": [],
   "source": [
    "# Put TODOs here"
   ]
  },
  {
   "cell_type": "markdown",
   "metadata": {},
   "source": [
    "# Exploratory Data Analysis\n",
    "\n",
    "The purpose of this exercise is to:\n",
    "\n",
    "- Explore the data in order to understand it\n",
    "- Find interesting patterns\n",
    "- Validate assumptions\n",
    "\n",
    "The notebook is organized into different sections, based on the levels already present in the data.\n",
    "\n",
    "## Questions\n",
    "To simplify the EDA process, let's start with some basic questions we can ask\n",
    "\n",
    "- How is the data spread? -> 5 Number Summary and Box Plots\n",
    "- Data Validation - For eg, number of days to resolve to complaint should be the difference between complaint date and resolution date.\n",
    "- Check for missing values in the data.\n",
    "- What is the complaint share across the wards? Is it uniform? Do some wards have a dispproportionate share of complaints?\n",
    "- Are some complaint types more frequently reported than some?\n",
    "- What days are the complaints filed? How is the pattern across the wards? How is the pattern across complaint types? What type of distribution do these patterns follow?\n",
    "- Trend Analysis: What is the number of complaints per month, per year? Is there an increasing trend? What type of trend (linear / non-linear) is it?\n",
    "- How are the complaints distributed in each year? Does it differ ward by ward, or by complaint type?\n",
    "- How are the complaints distributed in each month? Does it differ ward by ward, or by complaint type?\n",
    "- Are there more complaints in some months? What about in a particular ward, or for a complaint type?\n",
    "- What are the top k months in which most complaints are filed? What about in each ward?\n",
    "- What are the top l complaint types in a ward? Are these complaints filed in only a few months?\n",
    "- Based on the complaint type percentage (explore other factors), what wards are 'similar'? (Clustering exercise)\n",
    "- What are the top m complaint type(s) for each ward and when does it primarily occur? Is the time series distribution unimodal, bimodal, multimodal? During what months do they peak?\n",
    "- In which wards are the top 5 complaints(overall)?\n",
    "- Have the number of complaints decreased for a particular type over time? Is this because it is no longer a problem or was it solved? Compute Rolling resolution rate? \n",
    "\n",
    "\n",
    "Since we will be building alerts and forecast models, it is essential to perform a more focussed EDA\n",
    "\n",
    "- How are the complaints auto-correlated? (ACF / PACF plots)\n",
    "- Data Continuity and necessary conditions for time series modelling: Is the time series stationary? What ward x complaint types can be modelled? (Come up with a rough metric to assess suitability for building time series models)\n",
    "- Are there any seasonal / cyclical trend in the overall complaints? (Decomposition)\n",
    "- Are there any seasonal / cyclical trend in each complaint type taken on its own? (Decomposition)\n",
    "- Put each Ward x Complaint Type into buckets, based on the complaint type's average / median resolution percentage rate, and average / median resolution time (may need to confer with eGov):\n",
    "  - High Difficulty, High Volume\n",
    "  - High Difficulty, Low Volume\n",
    "  - Low Difficulty, High Volume\n",
    "  - Low Difficulty, Low Volume\n",
    "- Is the complaint distribution per complaint normal at the city level? Is it another type of distribution?\n",
    "- Is the complaint distribution per complaint normal at the ward level? Is it another type of distribution?\n",
    "- Do outliers (in complaints at city level) consistently occur in a time period?\n",
    "- Do outliers (in complaints at ward level) consistently occur in a time period?"
   ]
  },
  {
   "cell_type": "code",
   "execution_count": null,
   "metadata": {
    "collapsed": true
   },
   "outputs": [],
   "source": [
    "Read data"
   ]
  },
  {
   "cell_type": "code",
   "execution_count": null,
   "metadata": {
    "collapsed": true
   },
   "outputs": [],
   "source": [
    "nas <- c(NA, 'NA', '', ' ', 'NULL')\n",
    "rolled_data <- read.csv(ROLLED_DATA_PATH, stringsAsFactors = F,\n",
    "                    na.strings = nas)"
   ]
  },
  {
   "cell_type": "code",
   "execution_count": null,
   "metadata": {
    "collapsed": false
   },
   "outputs": [],
   "source": [
    "glimpse(rolled_data)"
   ]
  },
  {
   "cell_type": "code",
   "execution_count": null,
   "metadata": {
    "collapsed": false
   },
   "outputs": [],
   "source": [
    "rolled_data$Complaint.Date <- ymd(rolled_data$Complaint.Date)\n",
    "rolled_data$Complaint.Type <- as.factor(rolled_data$Complaint.Type)\n",
    "rolled_data$Ward <- as.factor(rolled_data$Ward)"
   ]
  },
  {
   "cell_type": "code",
   "execution_count": null,
   "metadata": {
    "collapsed": false
   },
   "outputs": [],
   "source": [
    "glimpse(rolled_data)"
   ]
  },
  {
   "cell_type": "markdown",
   "metadata": {},
   "source": [
    "How is the data spread?"
   ]
  },
  {
   "cell_type": "code",
   "execution_count": null,
   "metadata": {
    "collapsed": false
   },
   "outputs": [],
   "source": [
    "summary(rolled_data$Complaint.Date)"
   ]
  },
  {
   "cell_type": "code",
   "execution_count": null,
   "metadata": {
    "collapsed": true
   },
   "outputs": [],
   "source": [
    "rolled_data$Year <- year(rolled_data$Complaint.Date)\n",
    "rolled_data$Month <- month(rolled_data$Complaint.Date, label=T)"
   ]
  },
  {
   "cell_type": "code",
   "execution_count": null,
   "metadata": {
    "collapsed": false
   },
   "outputs": [],
   "source": [
    "rolled_data %>% \n",
    "group_by(Year) %>% \n",
    "summarise(comp_count=sum(complaint_count, na.rm=T)) %>% \n",
    "mutate(count_percent=(comp_count/sum(comp_count))*100)"
   ]
  },
  {
   "cell_type": "code",
   "execution_count": null,
   "metadata": {
    "collapsed": false
   },
   "outputs": [],
   "source": [
    "rolled_data %>% \n",
    "group_by(Month) %>% \n",
    "summarise(comp_count=sum(complaint_count, na.rm=T)) %>% \n",
    "mutate(count_percent=(comp_count/sum(comp_count))*100)"
   ]
  },
  {
   "cell_type": "code",
   "execution_count": null,
   "metadata": {
    "collapsed": false
   },
   "outputs": [],
   "source": [
    "summary(rolled_data$complaint_count)"
   ]
  },
  {
   "cell_type": "code",
   "execution_count": null,
   "metadata": {
    "collapsed": false
   },
   "outputs": [],
   "source": [
    "comp_count_m1 <- rolled_data %>% dplyr::select(complaint_count) %>% dplyr::filter(complaint_count>1)"
   ]
  },
  {
   "cell_type": "code",
   "execution_count": null,
   "metadata": {
    "collapsed": false
   },
   "outputs": [],
   "source": [
    "bins <- c(0,2,4,6,8,10,15,20,25,30,40,50,60)\n",
    "hist(comp_count_m1$complaint_count, breaks=bins, xlim=c(0,20))"
   ]
  },
  {
   "cell_type": "code",
   "execution_count": null,
   "metadata": {
    "collapsed": false
   },
   "outputs": [],
   "source": [
    "bins <- c(0, seq(5,55,5))\n",
    "hist(comp_count_m1$complaint_count, breaks=bins, xlim=c(10,55), ylim=c(0,100), freq=T)"
   ]
  },
  {
   "cell_type": "markdown",
   "metadata": {},
   "source": [
    "What is the complaint share across the wards? Is it uniform? Do some wards have a dispproportionate share of complaints?"
   ]
  },
  {
   "cell_type": "code",
   "execution_count": null,
   "metadata": {
    "collapsed": false
   },
   "outputs": [],
   "source": [
    "length(unique(rolled_data$Ward))"
   ]
  },
  {
   "cell_type": "code",
   "execution_count": null,
   "metadata": {
    "collapsed": false
   },
   "outputs": [],
   "source": [
    "count_by_ward<- rolled_data %>% \n",
    "                group_by(Ward) %>% \n",
    "                dplyr::filter(!is.na(Ward)) %>%\n",
    "                summarise(comp_count=sum(complaint_count, na.rm=T)) %>% \n",
    "                mutate(count_percent=(comp_count/sum(comp_count))*100) %>%\n",
    "                arrange(count_percent)\n",
    "\n",
    "count_by_ward"
   ]
  },
  {
   "cell_type": "code",
   "execution_count": null,
   "metadata": {
    "collapsed": false
   },
   "outputs": [],
   "source": [
    "ggplot(count_by_ward, aes(reorder(Ward,count_percent), count_percent)) + \n",
    "geom_bar(stat=\"identity\")"
   ]
  },
  {
   "cell_type": "code",
   "execution_count": null,
   "metadata": {
    "collapsed": false
   },
   "outputs": [],
   "source": [
    "summary(count_by_ward$count_percent)"
   ]
  },
  {
   "cell_type": "code",
   "execution_count": null,
   "metadata": {
    "collapsed": false
   },
   "outputs": [],
   "source": [
    "ward_count_high <- dplyr::filter(count_by_ward, count_percent>0.70050)\n",
    "sum(ward_count_high$count_percent)"
   ]
  },
  {
   "cell_type": "markdown",
   "metadata": {},
   "source": [
    "So, the complaint count across Wards is not evenly distributed. Top 25% Wards by count of complaints have ~47% of complaints"
   ]
  },
  {
   "cell_type": "markdown",
   "metadata": {},
   "source": [
    "What days are the complaints filed? How is the pattern across the wards? How is the pattern across complaint types? What type of distribution do these patterns follow?"
   ]
  },
  {
   "cell_type": "code",
   "execution_count": null,
   "metadata": {
    "collapsed": true
   },
   "outputs": [],
   "source": [
    "rolled_data$WDay <- wday(rolled_data$Complaint.Date, label=T)"
   ]
  },
  {
   "cell_type": "code",
   "execution_count": null,
   "metadata": {
    "collapsed": false
   },
   "outputs": [],
   "source": [
    "rolled_data %>% \n",
    "group_by(WDay) %>% \n",
    "summarise(comp_count=sum(complaint_count, na.rm=T)) %>% \n",
    "mutate(count_percent=(comp_count/sum(comp_count))*100)"
   ]
  },
  {
   "cell_type": "markdown",
   "metadata": {},
   "source": [
    "Almost uniformally distributed"
   ]
  },
  {
   "cell_type": "code",
   "execution_count": null,
   "metadata": {
    "collapsed": true
   },
   "outputs": [],
   "source": []
  }
 ],
 "metadata": {
  "kernelspec": {
   "display_name": "R",
   "language": "R",
   "name": "ir"
  },
  "language_info": {
   "codemirror_mode": "r",
   "file_extension": ".r",
   "mimetype": "text/x-r-source",
   "name": "R",
   "pygments_lexer": "r",
   "version": "3.2.3"
  }
 },
 "nbformat": 4,
 "nbformat_minor": 0
}
