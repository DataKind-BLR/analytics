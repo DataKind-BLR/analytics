{
 "cells": [
  {
   "cell_type": "markdown",
   "metadata": {},
   "source": [
    "## EDA for Ward x Complaint Type Time Series Analysis\n",
    "Objectives: \n",
    "- Find out which Ward x Complaint Type is suitable for modeling using TSM\n",
    "- Find obvious patterns in the data. In particular, answer what complaint types occur predominatly during which time periods.\n",
    "- Construct data files to be used in TSM"
   ]
  },
  {
   "cell_type": "code",
   "execution_count": null,
   "metadata": {
    "collapsed": false
   },
   "outputs": [],
   "source": [
    "library(forecast)\n",
    "library(xts)\n",
    "library(lubridate)\n",
    "library(dplyr)"
   ]
  },
  {
   "cell_type": "code",
   "execution_count": null,
   "metadata": {
    "collapsed": true
   },
   "outputs": [],
   "source": [
    "RAW_PATH = \"../../cocUptoJuly2016.csv\""
   ]
  },
  {
   "cell_type": "code",
   "execution_count": null,
   "metadata": {
    "collapsed": true
   },
   "outputs": [],
   "source": [
    "nas <- c(NA, 'NA', '', ' ', 'NULL')\n",
    "df <- read.csv(RAW_PATH, stringsAsFactors = F,\n",
    "                    na.strings = nas)\n"
   ]
  },
  {
   "cell_type": "code",
   "execution_count": null,
   "metadata": {
    "collapsed": true
   },
   "outputs": [],
   "source": [
    "df$Complaint.Date <- as.Date(df$Complaint.Date, format = \"%m/%d/%Y\")\n",
    "df$Resolution.Date <- as.Date(df$Resolution.Date, format = \"%m/%d/%Y\")\n",
    "df$NumComplaints <- 1\n",
    "\n",
    "# discard pre-2012 data, and post 2016 data\n",
    "df <- df[df$Complaint.Date >= as.Date(\"01/01/2012\", format = \"%m/%d/%Y\"), ] \n",
    "df <- df[df$Complaint.Date < as.Date(\"01/01/2016\", format = \"%m/%d/%Y\"), ] "
   ]
  },
  {
   "cell_type": "code",
   "execution_count": null,
   "metadata": {
    "collapsed": false
   },
   "outputs": [],
   "source": [
    "head(df)"
   ]
  },
  {
   "cell_type": "code",
   "execution_count": null,
   "metadata": {
    "collapsed": false
   },
   "outputs": [],
   "source": [
    "table(df$Complaint.Type)"
   ]
  },
  {
   "cell_type": "code",
   "execution_count": null,
   "metadata": {
    "collapsed": false
   },
   "outputs": [],
   "source": [
    "# plot distribution of complaints\n",
    "wardComplaints <- table(df$Ward)\n",
    "wardComplaints <- wardComplaints[order(-wardComplaints)]\n",
    "plot(wardComplaints)"
   ]
  },
  {
   "cell_type": "code",
   "execution_count": null,
   "metadata": {
    "collapsed": false
   },
   "outputs": [],
   "source": [
    "(wardComplaints / nrow(df)) * 100"
   ]
  },
  {
   "cell_type": "code",
   "execution_count": null,
   "metadata": {
    "collapsed": false
   },
   "outputs": [],
   "source": [
    "plot.ward.details <- function(df, ward) {\n",
    "    df <- df[df$Ward == ward, ]\n",
    "    series <- xts(df$NumComplaints, df$Complaint.Date)\n",
    "    series <- apply.monthly(series, FUN = sum)    \n",
    "    plot(series, main=\"Overall Complaint Distribution\")\n",
    "    \n",
    "    # plot top 6 complaint types    \n",
    "    complaintCounts <- table(df$Complaint.Type)\n",
    "    complaintCounts <- complaintCounts[order(-complaintCounts)]    \n",
    "    opar <- par(mfrow=c(3,2))\n",
    "    for(i in 1:6) {\n",
    "        complaintType <- names(complaintCounts[i])        \n",
    "        sub <- df[df$Complaint.Type == complaintType, ]        \n",
    "        series <- xts(sub$NumComplaints, sub$Complaint.Date)\n",
    "        series <- apply.monthly(series, FUN = sum)    \n",
    "        plot(series, main=paste0(\"Complaint Distribution for \", complaintType))\n",
    "    }\n",
    "    par(opar)\n",
    "    \n",
    "    df$Month <- month(df$Complaint.Date)\n",
    "    df$Year <- year(df$Complaint.Date)\n",
    "    \n",
    "    monthly <- table(Month=df$Month)    \n",
    "    plot(monthly)\n",
    "    monthly <- as.data.frame(monthly[order(-monthly)])\n",
    "    #monthly$Month <- month.abb[monthly$Month]\n",
    "    print(monthly)    \n",
    "    yearly <- as.data.frame(table(Month=df$Month, Year=df$Year))\n",
    "    yearly$Month <- month.abb[yearly$Month]    \n",
    "}\n",
    "plot.ward.details(df, \"N188\")"
   ]
  },
  {
   "cell_type": "code",
   "execution_count": null,
   "metadata": {
    "collapsed": false
   },
   "outputs": [],
   "source": [
    "viz.heatmap <- function(df, num.complaint.types = 5, num.wards = 5, marg=c(15, 5)) {\n",
    "    cpl.table <- table(df$Complaint.Type)\n",
    "    cpl.table <- as.data.frame(cpl.table[order(-cpl.table)])\n",
    "    cpl.top <- names(cpl.table[0:num.complaint.types, ])\n",
    "    \n",
    "    ward.table <- table(df$Ward)\n",
    "    ward.table <- as.data.frame(ward.table[order(-ward.table)])\n",
    "    ward.top <- names(ward.table[0:num.wards, ])\n",
    "    \n",
    "    subDf <- df[(df$Complaint.Type %in% top5) & (df$Ward %in% ward.top), ]\n",
    "    \n",
    "    heatmap(as.matrix(table(subDf$Ward, subDf$Complaint.Type)), margins=marg, Rowv=NA, Colv=NA)\n",
    "}\n",
    "viz.heatmap(df, 5, 5)"
   ]
  },
  {
   "cell_type": "code",
   "execution_count": null,
   "metadata": {
    "collapsed": false
   },
   "outputs": [],
   "source": [
    "# compute % ages\n",
    "cpl.type <- \"Change of address in Electoral Roll\"\n",
    "all.wards <- unique(df$Ward, as.factor=False)\n",
    "all.wards <- data.frame(Ward=all.wards, stringsAsFactors = F)\n",
    "nrow(all.wards)"
   ]
  },
  {
   "cell_type": "code",
   "execution_count": null,
   "metadata": {
    "collapsed": false
   },
   "outputs": [],
   "source": [
    "subDf <- df[(df$Complaint.Type == cpl.type), ]\n",
    "head(subDf, 1)"
   ]
  },
  {
   "cell_type": "code",
   "execution_count": null,
   "metadata": {
    "collapsed": false
   },
   "outputs": [],
   "source": [
    "ward.table <- table(subDf$Ward)\n",
    "ward.table\n",
    "\n",
    "total.cpl <- sum(ward.table)\n",
    "total.cpl\n",
    "\n",
    "perc.table <- (ward.table / total.cpl) * 100\n",
    "\n",
    "perc.table <- as.data.frame(perc.table, stringsAsFactors = F)\n",
    "colnames(perc.table) <- c(\"Ward\", \"Percentage\")\n",
    "perc.table <- left_join(all.wards, perc.table, by = c(\"Ward\"))\n",
    "perc.table$Percentage[is.na(perc.table$Percentage)] <- 0.0\n",
    "perc.table\n",
    "\n",
    "sum(perc.table$Percentage)"
   ]
  },
  {
   "cell_type": "code",
   "execution_count": null,
   "metadata": {
    "collapsed": false
   },
   "outputs": [],
   "source": [
    "# put it in a nice function\n",
    "compute.perc.simple <- function(df, cpl.type) {\n",
    "    subDf <- df[(df$Complaint.Type == cpl.type), ]\n",
    "    all.wards <- unique(df$Ward, as.factor=False)\n",
    "    all.wards <- data.frame(Ward=all.wards, stringsAsFactors = F)\n",
    "    subDf <- df[(df$Complaint.Type == cpl.type), ]\n",
    "    \n",
    "    ward.table <- table(subDf$Ward)\n",
    "    total.cpl <- sum(ward.table)\n",
    "    perc.table <- (ward.table / total.cpl)\n",
    "    perc.table <- as.data.frame(perc.table, stringsAsFactors = F)\n",
    "    colnames(perc.table) <- c(\"Ward\", \"Percentage\")\n",
    "    perc.table <- left_join(all.wards, perc.table, by = c(\"Ward\"))\n",
    "    perc.table$Percentage[is.na(perc.table$Percentage)] <- 0.0\n",
    "    return(perc.table)\n",
    "}\n",
    "\n",
    "# we care about the top 10 complaints\n",
    "\n",
    "num.complaint.types <- 10\n",
    "cpl.table <- table(df$Complaint.Type)\n",
    "cpl.table <- as.data.frame(cpl.table[order(-cpl.table)])\n",
    "cpl.top <- names(cpl.table[0:num.complaint.types, ])\n",
    "DATA_FOLDER <- \"../time-series/data/wardLevel/percentages\"\n",
    "for(complaintType in cpl.top) {    \n",
    "    perc.table <- compute.perc.simple(df, complaintType)\n",
    "    # one complaint type has a '/' in it, which messes up the paths    \n",
    "    path <- file.path(DATA_FOLDER, paste0(gsub(\"/\", \"-\", complaintType), \".csv\"))\n",
    "    print(paste0(\"Saving file \", path))\n",
    "    write.csv(perc.table, file=path, row.names=F)\n",
    "}"
   ]
  },
  {
   "cell_type": "code",
   "execution_count": null,
   "metadata": {
    "collapsed": false
   },
   "outputs": [],
   "source": [
    "# helper function to load this data up\n",
    "load.ward.percentages <- function(dataFolder) {\n",
    "    data <- list()\n",
    "    for(file in list.files(dataFolder)) {\n",
    "        print(paste0(\"Loading: \", file))\n",
    "        complaintType <- substr(file,1,(nchar(file))-4)\n",
    "        df <- read.csv(paste0(dataFolder, \"/\", file), stringsAsFactors=F)\n",
    "        data[[complaintType]] <- df\n",
    "    }\n",
    "    data\n",
    "}\n",
    "load.ward.percentages(DATA_FOLDER)"
   ]
  },
  {
   "cell_type": "code",
   "execution_count": null,
   "metadata": {
    "collapsed": true
   },
   "outputs": [],
   "source": []
  }
 ],
 "metadata": {
  "kernelspec": {
   "display_name": "R",
   "language": "R",
   "name": "ir"
  },
  "language_info": {
   "codemirror_mode": "r",
   "file_extension": ".r",
   "mimetype": "text/x-r-source",
   "name": "R",
   "pygments_lexer": "r",
   "version": "3.2.3"
  }
 },
 "nbformat": 4,
 "nbformat_minor": 0
}
