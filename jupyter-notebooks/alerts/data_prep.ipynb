{
 "cells": [
  {
   "cell_type": "code",
   "execution_count": null,
   "metadata": {
    "collapsed": false
   },
   "outputs": [],
   "source": [
    "DATA=\"../../cocUptoJuly2016.csv\"\n",
    "library(dplyr)\n",
    "library(lubridate)\n",
    "library(xts)"
   ]
  },
  {
   "cell_type": "code",
   "execution_count": null,
   "metadata": {
    "collapsed": false
   },
   "outputs": [],
   "source": [
    "raw <- read.csv(DATA, stringsAsFactors = F)\n",
    "head(raw)\n",
    "raw$Complaint.Date <- as.POSIXct(raw$Complaint.Date, format = \"%m/%d/%Y %H:%M:%S\")"
   ]
  },
  {
   "cell_type": "code",
   "execution_count": null,
   "metadata": {
    "collapsed": true
   },
   "outputs": [],
   "source": [
    "raw <- select(raw, Ward, Complaint.Type, Complaint.Date)"
   ]
  },
  {
   "cell_type": "code",
   "execution_count": null,
   "metadata": {
    "collapsed": true
   },
   "outputs": [],
   "source": [
    "complaints.data <- raw[raw$Complaint.Date >= strptime(\"01/01/2012 00:00:00\", format = \"%m/%d/%Y %H:%M:%S\"), ] \n",
    "complaints.data$NumComplaints <- 1"
   ]
  },
  {
   "cell_type": "code",
   "execution_count": null,
   "metadata": {
    "collapsed": false
   },
   "outputs": [],
   "source": [
    "min.date <- min(complaints.data$Complaint.Date)\n",
    "max.date <- max(complaints.data$Complaint.Date)"
   ]
  },
  {
   "cell_type": "code",
   "execution_count": null,
   "metadata": {
    "collapsed": false
   },
   "outputs": [],
   "source": [
    "periodicity_ <- function(complaints.frame, periodicity) {\n",
    "    stopifnot(nrow(complaints.frame) > 0)\n",
    "    series <- xts(complaints.frame$NumComplaints, complaints.frame$Complaint.Date)\n",
    "    if(periodicity == \"hour\") {\n",
    "        series <- period.apply(series, endpoints(series, \"hours\"), FUN = sum)\n",
    "    } else if (periodicity == \"day\") {\n",
    "        series <- apply.daily(series, FUN = sum)\n",
    "    }\n",
    "    series\n",
    "} "
   ]
  },
  {
   "cell_type": "code",
   "execution_count": null,
   "metadata": {
    "collapsed": false
   },
   "outputs": [],
   "source": [
    "# construct city level data\n",
    "city.level.data <- function(periodicity) {\n",
    "    periodicity_(complaints.data, periodicity)\n",
    "}\n",
    "plot(city.level.data(\"hour\"))"
   ]
  },
  {
   "cell_type": "code",
   "execution_count": null,
   "metadata": {
    "collapsed": false
   },
   "outputs": [],
   "source": [
    "plot(city.level.data(\"day\"))"
   ]
  },
  {
   "cell_type": "code",
   "execution_count": null,
   "metadata": {
    "collapsed": false
   },
   "outputs": [],
   "source": [
    "# ward level data\n",
    "ward.level.data <- function(ward, periodicity) {\n",
    "    df <- filter(complaints.data, Ward == ward)\n",
    "    periodicity_(df, periodicity)\n",
    "}\n",
    "plot(ward.level.data(\"N188\", \"hour\"))"
   ]
  },
  {
   "cell_type": "code",
   "execution_count": null,
   "metadata": {
    "collapsed": false
   },
   "outputs": [],
   "source": [
    "plot(ward.level.data(\"N188\", \"day\"))"
   ]
  },
  {
   "cell_type": "code",
   "execution_count": null,
   "metadata": {
    "collapsed": false
   },
   "outputs": [],
   "source": [
    "# complaint level of data\n",
    "complaint.level.data <- function(complaint.type, periodicity) {\n",
    "    df <- filter(complaints.data, Complaint.Type == complaint.type)\n",
    "    periodicity_(df, periodicity)\n",
    "}\n",
    "plot(complaint.level.data(\"Mosquito menace \", \"hour\"))"
   ]
  },
  {
   "cell_type": "code",
   "execution_count": null,
   "metadata": {
    "collapsed": false
   },
   "outputs": [],
   "source": [
    "plot(complaint.level.data(\"Mosquito menace \", \"day\"))"
   ]
  },
  {
   "cell_type": "code",
   "execution_count": null,
   "metadata": {
    "collapsed": true
   },
   "outputs": [],
   "source": [
    "# the above functions are stored in lib/alerts_data.R"
   ]
  }
 ],
 "metadata": {
  "kernelspec": {
   "display_name": "R",
   "language": "R",
   "name": "ir"
  },
  "language_info": {
   "codemirror_mode": "r",
   "file_extension": ".r",
   "mimetype": "text/x-r-source",
   "name": "R",
   "pygments_lexer": "r",
   "version": "3.3.2"
  }
 },
 "nbformat": 4,
 "nbformat_minor": 1
}
