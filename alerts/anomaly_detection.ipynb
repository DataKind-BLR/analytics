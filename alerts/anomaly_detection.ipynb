{
 "cells": [
  {
   "cell_type": "code",
   "execution_count": null,
   "metadata": {
    "collapsed": true
   },
   "outputs": [],
   "source": [
    "library(AnomalyDetection)"
   ]
  },
  {
   "cell_type": "code",
   "execution_count": null,
   "metadata": {
    "collapsed": false
   },
   "outputs": [],
   "source": [
    "source(\"./lib/alerts_data.R\")"
   ]
  },
  {
   "cell_type": "code",
   "execution_count": null,
   "metadata": {
    "collapsed": true
   },
   "outputs": [],
   "source": [
    "alertsData <- AlertsData(\"../../cocUptoJuly2016.csv\")"
   ]
  },
  {
   "cell_type": "code",
   "execution_count": null,
   "metadata": {
    "collapsed": false
   },
   "outputs": [],
   "source": [
    "cityLevel <- alertsData$cityLevel(\"hour\")\n",
    "plot(cityLevel)"
   ]
  },
  {
   "cell_type": "code",
   "execution_count": null,
   "metadata": {
    "collapsed": false,
    "scrolled": false
   },
   "outputs": [],
   "source": [
    "# subset one year of data \n",
    "subset <- window(cityLevel, start=\"2015-01-01 00:00:00\", end=\"2015-12-31 23:59:59\")\n",
    "plot(subset)"
   ]
  },
  {
   "cell_type": "code",
   "execution_count": null,
   "metadata": {
    "collapsed": false
   },
   "outputs": [],
   "source": [
    "cityLevel[cityLevel == max(cityLevel)]"
   ]
  },
  {
   "cell_type": "code",
   "execution_count": null,
   "metadata": {
    "collapsed": false
   },
   "outputs": [],
   "source": [
    "construct.frame <- function(xtsobj) {\n",
    "    data.frame(time=index(xtsobj), values=coredata(xtsobj))\n",
    "}\n",
    "cityLevelFrame <- construct.frame(subset)"
   ]
  },
  {
   "cell_type": "code",
   "execution_count": null,
   "metadata": {
    "collapsed": false
   },
   "outputs": [],
   "source": [
    "adt <- AnomalyDetectionTs(cityLevelFrame, plot=T)\n",
    "adt$plot"
   ]
  },
  {
   "cell_type": "code",
   "execution_count": null,
   "metadata": {
    "collapsed": false
   },
   "outputs": [],
   "source": [
    "# pick an even smaller subset, a 60 day subset\n",
    "subset <- window(cityLevel, start=\"2015-09-01 00:00:00\", end=\"2015-11-30 23:59:59\")\n",
    "plot(subset)"
   ]
  },
  {
   "cell_type": "code",
   "execution_count": null,
   "metadata": {
    "collapsed": false
   },
   "outputs": [],
   "source": [
    "adt <- AnomalyDetectionTs(construct.frame(subset), plot=T)\n",
    "adt$plot"
   ]
  },
  {
   "cell_type": "code",
   "execution_count": null,
   "metadata": {
    "collapsed": false
   },
   "outputs": [],
   "source": [
    "adt <- AnomalyDetectionTs(construct.frame(subset), plot=T, alpha = 0.5)\n",
    "adt$plot"
   ]
  },
  {
   "cell_type": "code",
   "execution_count": null,
   "metadata": {
    "collapsed": true
   },
   "outputs": [],
   "source": [
    "library(dygraphs)"
   ]
  },
  {
   "cell_type": "code",
   "execution_count": null,
   "metadata": {
    "collapsed": false
   },
   "outputs": [],
   "source": [
    "# write a function for finding anomalies around in one day\n",
    "anomalies.around <- function(xtsobj, date, window.size=60) {\n",
    "    end_time <- date\n",
    "    start_time <- date - (24 * 60 * 60 * window.size)\n",
    "    subset <- window(xtsobj, start=start_time, end=end_time)\n",
    "    AnomalyDetectionVec(drop(coredata(subset)),period=24, plot=T, only_last = T)\n",
    "}\n",
    "anoms <- anomalies.around(cityLevel, as.POSIXct(\"2014-11-22 23:59:59\"))\n",
    "anoms$plot"
   ]
  },
  {
   "cell_type": "code",
   "execution_count": null,
   "metadata": {
    "collapsed": false
   },
   "outputs": [],
   "source": [
    "# try to see anomalies for the dates with most number of complaints\n",
    "plots <- list()\n",
    "i <- 1\n",
    "for(d in index(cityLevel[order(-coredata(cityLevel))[1:5]])) {\n",
    "    plots[[i]] <- anomalies.around(cityLevel, d)$plot\n",
    "    i <- i + 1\n",
    "}\n",
    "plots"
   ]
  }
 ],
 "metadata": {
  "kernelspec": {
   "display_name": "R",
   "language": "R",
   "name": "ir"
  },
  "language_info": {
   "codemirror_mode": "r",
   "file_extension": ".r",
   "mimetype": "text/x-r-source",
   "name": "R",
   "pygments_lexer": "r",
   "version": "3.3.2"
  }
 },
 "nbformat": 4,
 "nbformat_minor": 1
}
