{
 "cells": [
  {
   "cell_type": "markdown",
   "metadata": {},
   "source": [
    "This notebook combines all results from all methods into a single function for evaluation"
   ]
  },
  {
   "cell_type": "code",
   "execution_count": null,
   "metadata": {
    "collapsed": false
   },
   "outputs": [],
   "source": [
    "library(hash)\n",
    "library(xts)\n",
    "library(lubridate)\n",
    "library(forecast)\n",
    "library(fpp)\n",
    "library(rucm)"
   ]
  },
  {
   "cell_type": "code",
   "execution_count": null,
   "metadata": {
    "collapsed": true
   },
   "outputs": [],
   "source": [
    "DATA_FOLDER <- \"/home/samarth/workspaces/datakind-workspace/analytics/time-series/data/topNComplaints\"\n",
    "RESULTS_FOLDER <- \"/home/samarth/workspaces/datakind-workspace/analytics/time-series/results/topNComplaints/final\"\n",
    "dataStart <- c(2012, 1)\n",
    "dataEnd <- c(2016, 6)\n",
    "trainStart <- c(2012, 1)\n",
    "trainEnd <- c(2015, 6)\n",
    "testStart <- c(2015, 7)\n",
    "testEnd <- c(2016, 6)\n",
    "predictionInterval <- 12"
   ]
  },
  {
   "cell_type": "code",
   "execution_count": null,
   "metadata": {
    "collapsed": false
   },
   "outputs": [],
   "source": [
    "loadData <- function(dataFolder) {\n",
    "    files <- list.files(dataFolder)\n",
    "    data <- list()\n",
    "    for(file in files) {    \n",
    "        df <- read.csv(paste0(dataFolder, \"/\", file), stringsAsFactors=F)    \n",
    "        minYear <- min(df$Year)\n",
    "        complaintType <- substr(file,1,(nchar(file))-4)    \n",
    "        tsObject <- ts(df$Complaints, start=c(minYear, 1), frequency = 12)        \n",
    "        data[[complaintType]] <- window(tsObject, start=dataStart,end=dataEnd)\n",
    "    }\n",
    "    data\n",
    "}\n",
    "data <- loadData(DATA_FOLDER)\n",
    "complaintTypes <- names(data)\n",
    "data[[complaintTypes[1]]]"
   ]
  },
  {
   "cell_type": "code",
   "execution_count": null,
   "metadata": {
    "collapsed": false
   },
   "outputs": [],
   "source": [
    "methods <- list()"
   ]
  },
  {
   "cell_type": "code",
   "execution_count": null,
   "metadata": {
    "collapsed": false
   },
   "outputs": [],
   "source": [
    "# ARIMA\n",
    "methods[[\"ARIMA\"]] <- function() {\n",
    "    grid <- expand.grid(p=seq(1,2), \n",
    "                        q=seq(1,2), \n",
    "                        d=c(1,2), \n",
    "                        lambda=c(NULL, 0, .25, .5, 1), \n",
    "                        complaintTypes=complaintTypes,\n",
    "                        stringsAsFactors=F)\n",
    "    resultsDf <- data.frame(\n",
    "                    complaintType=c(),\n",
    "                    method=c(),\n",
    "                    parameters=c(),\n",
    "                    TrainMAPE=c(),\n",
    "                    TrainRMSE=c(),\n",
    "                    TestMAPE=c(),\n",
    "                    TestRMSE=c()\n",
    "                )\n",
    "    \n",
    "    for(i in 1:nrow(grid)) {\n",
    "        params <- grid[i,]\n",
    "        complaintType <- params$complaintType\n",
    "        monthly <- data[[complaintType]]        \n",
    "        trainData <- window(monthly, start=trainStart, end=trainEnd)\n",
    "        testData <- window(monthly, start=testStart, end=testEnd)        \n",
    "        fit <- tryCatch(\n",
    "                Arima(trainData, order=c(params$p, params$d, params$q), lambda=params$lambda),\n",
    "                error=function(e) e\n",
    "                )\n",
    "        if(inherits(fit, \"error\")) next\n",
    "        acc <- accuracy(forecast(fit, h=predictionInterval), testData)                \n",
    "        paramDesc <- paste0(\"(p, d, q, lambda) = (\", params$p, \", \", params$d, \", \", params$q, \", \", params$lambda, \")\")\n",
    "        resultRow <- data.frame(\n",
    "                complaintType=c(complaintType),\n",
    "                method=c(\"ARIMA\"),\n",
    "                parameters=c(paramDesc),\n",
    "                TrainMAPE=c(acc[1,5]),\n",
    "                TrainRMSE=c(acc[1,2]),\n",
    "                TestMAPE=c(acc[2,5]),\n",
    "                TestRMSE=c(acc[2,2])\n",
    "            )\n",
    "        resultsDf <- rbind(resultsDf, resultRow)\n",
    "    }    \n",
    "    return(resultsDf)    \n",
    "}"
   ]
  },
  {
   "cell_type": "code",
   "execution_count": null,
   "metadata": {
    "collapsed": true
   },
   "outputs": [],
   "source": [
    "methods[[\"SARIMA\"]] <- function() {\n",
    "    grid <- expand.grid(p=seq(1,2), \n",
    "                        q=seq(1,2), \n",
    "                        d=c(1,2), \n",
    "                        P=seq(1,2),\n",
    "                        Q=seq(1,2),\n",
    "                        D=seq(1,2),\n",
    "                        lambda=c(NULL, 0, .25, .5, 1), \n",
    "                        complaintTypes=complaintTypes,\n",
    "                        stringsAsFactors=F)\n",
    "    resultsDf <- data.frame(\n",
    "                    complaintType=c(),\n",
    "                    method=c(),\n",
    "                    parameters=c(),\n",
    "                    TrainMAPE=c(),\n",
    "                    TrainRMSE=c(),\n",
    "                    TestMAPE=c(),\n",
    "                    TestRMSE=c()\n",
    "                )\n",
    "    \n",
    "    for(i in 1:nrow(grid)) {\n",
    "        params <- grid[i,]\n",
    "        complaintType <- params$complaintType\n",
    "        monthly <- data[[complaintType]]        \n",
    "        trainData <- window(monthly, start=trainStart, end=trainEnd)\n",
    "        testData <- window(monthly, start=testStart, end=testEnd)        \n",
    "        fit <- tryCatch(\n",
    "                Arima(trainData, order=c(params$p, params$d, params$q), \n",
    "                      seasonal=c(params$P, params$D, params$Q),\n",
    "                      lambda=params$lambda),\n",
    "                error=function(e) e\n",
    "                )\n",
    "        if(inherits(fit, \"error\")) next\n",
    "        acc <- accuracy(forecast(fit, h=predictionInterval, lambda=params$lambda), testData)                \n",
    "        paramDesc <- paste0(\"(p, d, q, P, D, Q, lambda) = (\", \n",
    "                            params$p, \", \", \n",
    "                            params$d, \", \", \n",
    "                            params$q, \", \", \n",
    "                            params$P, \", \", \n",
    "                            params$D, \", \", \n",
    "                            params$Q, \", \", \n",
    "                            params$lambda, \")\")\n",
    "        resultRow <- data.frame(\n",
    "                complaintType=c(complaintType),\n",
    "                method=c(\"SARIMA\"),\n",
    "                parameters=c(paramDesc),\n",
    "                TrainMAPE=c(acc[1,5]),\n",
    "                TrainRMSE=c(acc[1,2]),\n",
    "                TestMAPE=c(acc[2,5]),\n",
    "                TestRMSE=c(acc[2,2])\n",
    "            )\n",
    "        resultsDf <- rbind(resultsDf, resultRow)\n",
    "    }    \n",
    "    return(resultsDf)    \n",
    "}"
   ]
  },
  {
   "cell_type": "code",
   "execution_count": null,
   "metadata": {
    "collapsed": false
   },
   "outputs": [],
   "source": [
    "resultsDf <- data.frame(\n",
    "            complaintType=c(),\n",
    "            method=c(),\n",
    "            parameters=c(),\n",
    "            TrainMAPE=c(),\n",
    "            TrainRMSE=c(),\n",
    "            TestMAPE=c(),\n",
    "            TestRMSE=c()\n",
    "    )    \n",
    "for(method in methods) {\n",
    "    resultsDf <- rbind(resultsDf, method())\n",
    "}"
   ]
  },
  {
   "cell_type": "code",
   "execution_count": null,
   "metadata": {
    "collapsed": false
   },
   "outputs": [],
   "source": [
    "resultsDf <- resultsDf[order(resultsDf$TestMAPE), ]"
   ]
  },
  {
   "cell_type": "code",
   "execution_count": null,
   "metadata": {
    "collapsed": false
   },
   "outputs": [],
   "source": [
    "write.csv(resultsDf, file=paste0(RESULTS_FOLDER, \"/\", \"results.csv\"), row.names=F)"
   ]
  }
 ],
 "metadata": {
  "kernelspec": {
   "display_name": "R",
   "language": "R",
   "name": "ir"
  },
  "language_info": {
   "codemirror_mode": "r",
   "file_extension": ".r",
   "mimetype": "text/x-r-source",
   "name": "R",
   "pygments_lexer": "r",
   "version": "3.3.1"
  }
 },
 "nbformat": 4,
 "nbformat_minor": 0
}
