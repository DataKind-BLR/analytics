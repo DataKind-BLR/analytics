{
 "cells": [
  {
   "cell_type": "code",
   "execution_count": null,
   "metadata": {
    "collapsed": false
   },
   "outputs": [],
   "source": [
    "library(hash)\n",
    "library(xts)\n",
    "library(lubridate)\n",
    "library(forecast)\n",
    "library(fpp)"
   ]
  },
  {
   "cell_type": "code",
   "execution_count": null,
   "metadata": {
    "collapsed": true
   },
   "outputs": [],
   "source": [
    "DATA_FOLDER <- \"/home/samarth/workspaces/datakind-workspace/analytics/time-series/data/topNComplaints\""
   ]
  },
  {
   "cell_type": "code",
   "execution_count": null,
   "metadata": {
    "collapsed": false
   },
   "outputs": [],
   "source": [
    "loadData <- function(dataFolder) {\n",
    "    files <- list.files(dataFolder)\n",
    "    data <- list()\n",
    "    for(file in files) {    \n",
    "        df <- read.csv(paste0(dataFolder, \"/\", file), stringsAsFactors=F)    \n",
    "        minYear <- min(df$Year)\n",
    "        complaintType <- substr(file,1,(nchar(file))-4)    \n",
    "        tsObject <- ts(df$Complaints, start=c(minYear, 1), frequency = 12)\n",
    "        data[[complaintType]] <- tsObject\n",
    "    }\n",
    "    data\n",
    "}\n",
    "data <- loadData(DATA_FOLDER)\n",
    "complaintTypes <- names(data)\n",
    "data[[complaintTypes[1]]]"
   ]
  },
  {
   "cell_type": "code",
   "execution_count": null,
   "metadata": {
    "collapsed": false
   },
   "outputs": [],
   "source": [
    "buildArimaModel <- function(data, complaintType, order=c(12, 1, 1)) {\n",
    "    print(paste0(\"Building ARIMA model for \", complaintType))\n",
    "    raw <- data[[complaintType]]        \n",
    "    # since pre-2012, there were very few data points, subset it. also, we only consider 2015 data    \n",
    "    monthly <- window(raw, start=c(2012,1), end=c(2015, 12))    \n",
    "    trainStart <- c(2012, 1)\n",
    "    trainEnd <- c(2015, 1)\n",
    "    testStart <- trainEnd\n",
    "    testEnd <- c(2015, 12)    \n",
    "    # split into 'test' and 'train' set\n",
    "    trainData <- window(monthly, start=trainStart, end=trainEnd)\n",
    "    testData <- window(monthly, start=testStart, end=testEnd)\n",
    "    # plot acf and pacf    \n",
    "    tsdisplay(trainData, main=\"Plot of data\")            \n",
    "    fit <- Arima(trainData, order=order, method=\"ML\")    \n",
    "    plot(forecast(fit, h=12), main=\"Forecasts\")\n",
    "    lines(testData, lty=2)\n",
    "}\n",
    "buildArimaModel(data, complaintTypes[10], order=c(12, 2, 1))"
   ]
  },
  {
   "cell_type": "code",
   "execution_count": null,
   "metadata": {
    "collapsed": false
   },
   "outputs": [],
   "source": [
    "expand.grid(p=seq(1,12), q=seq(1, 12), d=seq(1, 12))"
   ]
  },
  {
   "cell_type": "code",
   "execution_count": null,
   "metadata": {
    "collapsed": true
   },
   "outputs": [],
   "source": []
  }
 ],
 "metadata": {
  "kernelspec": {
   "display_name": "R",
   "language": "R",
   "name": "ir"
  },
  "language_info": {
   "codemirror_mode": "r",
   "file_extension": ".r",
   "mimetype": "text/x-r-source",
   "name": "R",
   "pygments_lexer": "r",
   "version": "3.3.0"
  }
 },
 "nbformat": 4,
 "nbformat_minor": 0
}
