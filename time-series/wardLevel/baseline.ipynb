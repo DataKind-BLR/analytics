{
 "cells": [
  {
   "cell_type": "code",
   "execution_count": null,
   "metadata": {
    "collapsed": false
   },
   "outputs": [],
   "source": [
    "library(forecast)\n",
    "library(fpp)\n",
    "library(dplyr)\n",
    "library(lubridate)\n",
    "library(xts)"
   ]
  },
  {
   "cell_type": "code",
   "execution_count": null,
   "metadata": {
    "collapsed": true
   },
   "outputs": [],
   "source": [
    "df <- read.csv(\"../../../cocUptoJuly2016.csv\", stringsAsFactors=F)"
   ]
  },
  {
   "cell_type": "code",
   "execution_count": null,
   "metadata": {
    "collapsed": true
   },
   "outputs": [],
   "source": [
    "df$Num.Complaints <- 1\n",
    "df$Complaint.Date <- as.Date(df$Complaint.Date, format = \"%m/%d/%Y\")\n",
    "df$Month <- month(df$Complaint.Date)\n",
    "df$Year <- year(df$Complaint.Date)"
   ]
  },
  {
   "cell_type": "code",
   "execution_count": null,
   "metadata": {
    "collapsed": true
   },
   "outputs": [],
   "source": [
    "min.year <- min(df$Year)\n",
    "max.year <- max(df$Year)"
   ]
  },
  {
   "cell_type": "code",
   "execution_count": null,
   "metadata": {
    "collapsed": true
   },
   "outputs": [],
   "source": [
    "# for top 5 wards and top 5 complaint types\n",
    "M <- 5 # number of top wards to consider\n",
    "N <- 5 # number of top complaint types to consider"
   ]
  },
  {
   "cell_type": "code",
   "execution_count": null,
   "metadata": {
    "collapsed": false
   },
   "outputs": [],
   "source": [
    "ward.table <- table(df$Ward)\n",
    "ward.table <- as.data.frame(ward.table[order(-ward.table)])\n",
    "colnames(ward.table) <- c(\"Count\")\n",
    "ward.table[0:M,]\n",
    "\n",
    "top.wards <- names(ward.table[0:M,])\n",
    "top.wards"
   ]
  },
  {
   "cell_type": "code",
   "execution_count": null,
   "metadata": {
    "collapsed": false
   },
   "outputs": [],
   "source": [
    "cpl.table <- table(df$Complaint.Type)\n",
    "cpl.table <- as.data.frame(cpl.table[order(-cpl.table)])\n",
    "colnames(cpl.table) <- c(\"Count\")\n",
    "cpl.table[0:M,]\n",
    "\n",
    "top.cpl <- names(cpl.table[0:M,])\n",
    "top.cpl"
   ]
  },
  {
   "cell_type": "code",
   "execution_count": null,
   "metadata": {
    "collapsed": false
   },
   "outputs": [],
   "source": [
    "seq(min.year, max.year)"
   ]
  },
  {
   "cell_type": "code",
   "execution_count": null,
   "metadata": {
    "collapsed": false
   },
   "outputs": [],
   "source": [
    "DATA_FOLDER <- \"../data/wardLevel/\"\n",
    "for(cpl in top.cpl) {\n",
    "    subDf <- df[(df$Complaint.Type == cpl) & (df$Ward %in% top.wards),]    \n",
    "    wards <- unique(subDf$Ward)\n",
    "    ideal <- expand.grid(Year=seq(min.year, max.year), Month=seq(1, 12), Ward=wards, stringsAsFactors = F)\n",
    "    monthly <- (subDf %>% group_by(Year, Month, Ward) %>% summarise(Num.Complaints = sum(Num.Complaints)))\n",
    "    monthly <- left_join(ideal, monthly, by=c(\"Year\", \"Month\", \"Ward\"))\n",
    "    monthly$Num.Complaints[is.na(monthly$Num.Complaints)] <- 0\n",
    "    monthly <- monthly[order(monthly$Ward, monthly$Year, monthly$Month), ]\n",
    "    path <- file.path(DATA_FOLDER, paste0(gsub(\"/\", \"\", cpl), \".csv\"))\n",
    "    print(paste0(\"Saving file \", path))\n",
    "    write.csv(monthly, file=path, row.names=F)\n",
    "}"
   ]
  },
  {
   "cell_type": "code",
   "execution_count": null,
   "metadata": {
    "collapsed": false
   },
   "outputs": [],
   "source": [
    "# write function to load ward level data into a easily usable structure\n",
    "load.ward.data <- function(dataFolder) {\n",
    "    files <- list.files(dataFolder,  include.dirs=F)\n",
    "    data <- list()\n",
    "    for(file in files) {\n",
    "        path <- paste0(dataFolder, \"/\", file)\n",
    "        if(file.info(path)$isdir) {\n",
    "            next\n",
    "        }\n",
    "        print(paste0(\"Reading \", path))\n",
    "        \n",
    "        df <- read.csv(path, stringsAsFactors=F)\n",
    "        minYear <- min(df$Year)\n",
    "        complaintType <- substr(file,1,(nchar(file))-4)    \n",
    "        wardData <- list()\n",
    "        for(ward in unique(df$Ward)) {\n",
    "            subDf <- df[(df$Ward == ward), ]\n",
    "            tsObject <- ts(subDf$Num.Complaints, start=c(minYear, 1), frequency = 12)\n",
    "            wardData[[ward]] <- tsObject\n",
    "        }\n",
    "        data[[complaintType]] <- wardData\n",
    "    }\n",
    "    data\n",
    "}\n",
    "\n",
    "ward.data <- load.ward.data(DATA_FOLDER)"
   ]
  },
  {
   "cell_type": "code",
   "execution_count": null,
   "metadata": {
    "collapsed": false
   },
   "outputs": [],
   "source": [
    "tsdisplay(ward.data[[\"Dog menace \"]][[\"N188\"]])"
   ]
  },
  {
   "cell_type": "code",
   "execution_count": null,
   "metadata": {
    "collapsed": false
   },
   "outputs": [],
   "source": [
    "# load percentages\n",
    "load.ward.percentages <- function(dataFolder) {\n",
    "    data <- list()\n",
    "    for(file in list.files(dataFolder)) {\n",
    "        print(paste0(\"Loading: \", file))\n",
    "        complaintType <- substr(file,1,(nchar(file))-4)\n",
    "        df <- read.csv(paste0(dataFolder, \"/\", file), stringsAsFactors=F)\n",
    "        data[[complaintType]] <- df\n",
    "    }\n",
    "    data\n",
    "}\n",
    "ward.perc <- load.ward.percentages(\"../data/wardLevel/percentages\")"
   ]
  },
  {
   "cell_type": "code",
   "execution_count": null,
   "metadata": {
    "collapsed": false
   },
   "outputs": [],
   "source": [
    "# let's pick a complaint type to do forecasting\n",
    "complaint.type <- \"Dog menace \"\n",
    "loadData <- function(dataFolder) {\n",
    "    files <- list.files(dataFolder)\n",
    "    data <- list()\n",
    "    for(file in files) {    \n",
    "        df <- read.csv(paste0(dataFolder, \"/\", file), stringsAsFactors=F)    \n",
    "        minYear <- min(df$Year)\n",
    "        complaintType <- substr(file,1,(nchar(file))-4)    \n",
    "        tsObject <- ts(df$Complaints, start=c(minYear, 1), frequency = 12)\n",
    "        data[[complaintType]] <- tsObject\n",
    "    }\n",
    "    data\n",
    "}\n",
    "city.data <- loadData(\"../data/topNComplaints/\")\n",
    "series <- city.data[[complaint.type]]\n",
    "tsdisplay(series)"
   ]
  },
  {
   "cell_type": "code",
   "execution_count": null,
   "metadata": {
    "collapsed": false
   },
   "outputs": [],
   "source": [
    "train.start <- c(2012, 3)\n",
    "train.end <- c(2015, 6)\n",
    "test.start <- c(2015, 7)\n",
    "test.end <- c(2016, 7)\n",
    "\n",
    "train.series <- window(series, start=train.start, end=train.end)\n",
    "test.series <- window(series, start=test.start, end=test.end)\n",
    "\n",
    "plot(train.series, xlim=c(2012, max(df$Year) + 0.5))\n",
    "lines(test.series, lty=2)"
   ]
  },
  {
   "cell_type": "code",
   "execution_count": null,
   "metadata": {
    "collapsed": false
   },
   "outputs": [],
   "source": [
    "tsdisplay(train.series)"
   ]
  },
  {
   "cell_type": "code",
   "execution_count": null,
   "metadata": {
    "collapsed": false
   },
   "outputs": [],
   "source": [
    "# build a model\n",
    "forecast.model <- Arima(train.series, order=c(6, 1, 4))\n",
    "prediction <- forecast(forecast.model, h=length(test.series))\n",
    "plot(prediction)\n",
    "lines(test.series, lty=2)"
   ]
  },
  {
   "cell_type": "code",
   "execution_count": null,
   "metadata": {
    "collapsed": false
   },
   "outputs": [],
   "source": [
    "# source: http://stackoverflow.com/questions/30510148/select-a-value-from-time-series-by-date-in-r\n",
    "extract.val <- function(tsobj, year, month) {\n",
    "    window(tsobj, start = year + month/12, end = year + month/12)[[1]]\n",
    "}"
   ]
  },
  {
   "cell_type": "code",
   "execution_count": null,
   "metadata": {
    "collapsed": false
   },
   "outputs": [],
   "source": [
    "prediction$mean"
   ]
  },
  {
   "cell_type": "code",
   "execution_count": null,
   "metadata": {
    "collapsed": false
   },
   "outputs": [],
   "source": [
    "extract.val(prediction$mean, 2015, 6)"
   ]
  },
  {
   "cell_type": "code",
   "execution_count": null,
   "metadata": {
    "collapsed": false
   },
   "outputs": [],
   "source": [
    "cpl.ward.perc <- ward.perc[[complaint.type]]\n",
    "# ward level forecasts for 2015, 6\n",
    "(cpl.ward.perc$Percentage * extract.val(prediction$mean, 2015, 6))"
   ]
  },
  {
   "cell_type": "code",
   "execution_count": null,
   "metadata": {
    "collapsed": false
   },
   "outputs": [],
   "source": [
    "# forecast for a ward\n",
    "cpl.ward.perc[cpl.ward.perc$Ward == \"N188\", ]$Percentage * prediction$mean"
   ]
  },
  {
   "cell_type": "code",
   "execution_count": null,
   "metadata": {
    "collapsed": false
   },
   "outputs": [],
   "source": [
    "# lot's of parameters!\n",
    "compute.forecast <- function(prediction, ward.data, \n",
    "                             ward.perc, complaint.type, ward,\n",
    "                             train.start, train.end, \n",
    "                             test.start, test.end) {\n",
    "    series <- ward.data[[complaint.type]][[ward]]\n",
    "    \n",
    "    train.series <- window(series, start=train.start, end=train.end)\n",
    "    test.series <- window(series, start=test.start, end=test.end)\n",
    "    \n",
    "    cpl.ward.perc <- ward.perc[[complaint.type]]\n",
    "    forecast.mean <- cpl.ward.perc[cpl.ward.perc$Ward == ward, ]$Percentage * prediction$mean\n",
    "    \n",
    "    plot(train.series, main=paste0(\"Forecasts for \", complaint.type, \" for ward \", ward),\n",
    "         ylim=c(0, max(series)), xlim=c(2012, max(df$Year) + 0.5))\n",
    "    lines(test.series, lty=2, col=\"red\")\n",
    "    lines(forecast.mean, col=\"blue\")\n",
    "    legend(\"topleft\", \n",
    "           lty = c(1, 2, 1), \n",
    "           col=c(\"black\", \"red\", \"blue\"),\n",
    "           legend=c(\"Train\", \"Test\", \"Prediction\"))\n",
    "    \n",
    "    \n",
    "    print(accuracy(forecast.mean, test.series))\n",
    "}\n",
    "\n",
    "compute.forecast(prediction, ward.data, ward.perc, complaint.type, \"N188\", train.start, train.end, \n",
    "                             test.start, test.end)"
   ]
  },
  {
   "cell_type": "code",
   "execution_count": null,
   "metadata": {
    "collapsed": false
   },
   "outputs": [],
   "source": [
    "# function to compute forcasts for all wards for a complaint type \n",
    "complaint.forecast <- function(city.data, ward.data, ward.perc, cpl.type) {\n",
    "    series <- city.data[[cpl.type]]\n",
    "    \n",
    "    train.start <- c(2012, 3)\n",
    "    train.end <- c(2015, 6)\n",
    "    test.start <- c(2015, 7)\n",
    "    test.end <- c(2016, 7)\n",
    "\n",
    "    train.series <- window(series, start=train.start, end=train.end)\n",
    "    test.series <- window(series, start=test.start, end=test.end)\n",
    "    \n",
    "    forecast.model <- snaive(train.series, h = length(test.series))\n",
    "    \n",
    "    prediction <- forecast(forecast.model, h = length(test.series))\n",
    "    plot(prediction)\n",
    "    lines(test.series, lty=2)\n",
    "    cpl.data <- ward.data[[cpl.type]]\n",
    "\n",
    "    for(ward in names(cpl.data)) {\n",
    "        compute.forecast(prediction, ward.data, ward.perc, cpl.type, ward, train.start, train.end, \n",
    "                        test.start, test.end)\n",
    "    }\n",
    "}"
   ]
  },
  {
   "cell_type": "code",
   "execution_count": null,
   "metadata": {
    "collapsed": false
   },
   "outputs": [],
   "source": [
    "complaint.types <- names(ward.data)"
   ]
  },
  {
   "cell_type": "code",
   "execution_count": null,
   "metadata": {
    "collapsed": false
   },
   "outputs": [],
   "source": [
    "complaint.forecast(city.data, ward.data, ward.perc, complaint.types[1])"
   ]
  },
  {
   "cell_type": "code",
   "execution_count": null,
   "metadata": {
    "collapsed": false
   },
   "outputs": [],
   "source": [
    "complaint.forecast(city.data, ward.data, ward.perc, complaint.types[2])"
   ]
  },
  {
   "cell_type": "code",
   "execution_count": null,
   "metadata": {
    "collapsed": false
   },
   "outputs": [],
   "source": [
    "complaint.forecast(city.data, ward.data, ward.perc, complaint.types[3])"
   ]
  },
  {
   "cell_type": "code",
   "execution_count": null,
   "metadata": {
    "collapsed": false
   },
   "outputs": [],
   "source": [
    "complaint.forecast(city.data, ward.data, ward.perc, complaint.types[4])"
   ]
  },
  {
   "cell_type": "code",
   "execution_count": null,
   "metadata": {
    "collapsed": false
   },
   "outputs": [],
   "source": [
    "complaint.forecast(city.data, ward.data, ward.perc, complaint.types[5])"
   ]
  }
 ],
 "metadata": {
  "kernelspec": {
   "display_name": "R",
   "language": "R",
   "name": "ir"
  },
  "language_info": {
   "codemirror_mode": "r",
   "file_extension": ".r",
   "mimetype": "text/x-r-source",
   "name": "R",
   "pygments_lexer": "r",
   "version": "3.2.3"
  }
 },
 "nbformat": 4,
 "nbformat_minor": 1
}
