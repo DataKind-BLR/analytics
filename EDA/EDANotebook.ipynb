{
 "cells": [
  {
   "cell_type": "code",
   "execution_count": null,
   "metadata": {
    "collapsed": false
   },
   "outputs": [],
   "source": [
    "# Add required packages here\n",
    "require(\"ggplot2\") \n",
    "\n",
    "# Path of data used for analysis\n",
    "RAW_PATH = \"\"\n",
    "ROLLED_DATA_PATH = \"\""
   ]
  },
  {
   "cell_type": "code",
   "execution_count": null,
   "metadata": {
    "collapsed": true
   },
   "outputs": [],
   "source": [
    "# Put TODOs here"
   ]
  },
  {
   "cell_type": "markdown",
   "metadata": {},
   "source": [
    "# Exploratory Data Analysis\n",
    "\n",
    "The purpose of this exercise is to:\n",
    "\n",
    "- Explore the data in order to understand it\n",
    "- Find interesting patterns\n",
    "- Validate assumptions\n",
    "\n",
    "The notebook is organized into different sections, based on the levels already present in the data.\n",
    "\n",
    "## Questions\n",
    "To simplify the EDA process, let's start with some basic questions we can ask\n",
    "\n",
    "- How is the data spread? -> 5 Number Summary and Box Plots\n",
    "- What is the complaint share across the wards? Is it uniform? Do some wards have a dispproportionate share of complaints?\n",
    "- Are some complaint types more frequently reported than some?\n",
    "- What days are the complaints filed? How is the pattern across the wards? How is the pattern across complaint types? What type of distribution do these patterns follow?\n",
    "- Trend Analysis: What is the number of complaints per month, per year? Is there an increasing trend? What type of trend (linear / non-linear) is it?\n",
    "- How are the complaints distributed in each year? Does it differ ward by ward, or by complaint type?\n",
    "- How are the complaints distributed in each month? Does it differ ward by ward, or by complaint type?\n",
    "- Are there more complaints in some months? What about in a particular ward, or for a complaint type?\n",
    "- What are the top k months in which most complaints are filed? What about in each ward?\n",
    "- What are the top l complaint types in a ward? Are these complaints filed in only a few months?\n",
    "- Based on the complaint type percentage (explore other factors), what wards are 'similar'? (Clustering exercise)\n",
    "- What are the top m complaint type(s) for each ward and when does it primarily occur? Is the time series distribution unimodal, bimodal, multimodal? During what months do they peak?\n",
    "- In which wards are the top 5 complaints(overall)?\n",
    "- Have the number of complaints decreased for a particular type over time? Is this because it is no longer a problem or was it solved? Compute Rolling resolution rate? \n",
    "\n",
    "\n",
    "Since we will be building alerts and forecast models, it is essential to perform a more focussed EDA\n",
    "\n",
    "- How are the complaints auto-correlated? (ACF / PACF plots)\n",
    "- Data Continuity and necessary conditions for time series modelling: Is the time series stationary? What ward x complaint types can be modelled? (Come up with a rough metric to assess suitability for building time series models)\n",
    "- Are there any seasonal / cyclical trend in the overall complaints? (Decomposition)\n",
    "- Are there any seasonal / cyclical trend in each complaint type taken on its own? (Decomposition)\n",
    "- Put each Ward x Complaint Type into buckets, based on the complaint type's average / median resolution percentage rate, and average / median resolution time (may need to confer with eGov):\n",
    "  - High Difficulty, High Volume\n",
    "  - High Difficulty, Low Volume\n",
    "  - Low Difficulty, High Volume\n",
    "  - Low Difficulty, Low Volume\n",
    "- Is the complaint distribution per complaint normal at the city level? Is it another type of distribution?\n",
    "- Is the complaint distribution per complaint normal at the ward level? Is it another type of distribution?\n",
    "- Do outliers (in complaints at city level) consistently occur in a time period?\n",
    "- Do outliers (in complaints at ward level) consistently occur in a time period?"
   ]
  }
 ],
 "metadata": {
  "kernelspec": {
   "display_name": "R",
   "language": "R",
   "name": "ir"
  },
  "language_info": {
   "codemirror_mode": "r",
   "file_extension": ".r",
   "mimetype": "text/x-r-source",
   "name": "R",
   "pygments_lexer": "r",
   "version": "3.2.5"
  }
 },
 "nbformat": 4,
 "nbformat_minor": 0
}
